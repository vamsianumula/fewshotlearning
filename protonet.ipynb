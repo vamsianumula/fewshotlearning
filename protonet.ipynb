{
  "nbformat": 4,
  "nbformat_minor": 0,
  "metadata": {
    "colab": {
      "provenance": [],
      "collapsed_sections": []
    },
    "kernelspec": {
      "name": "python3",
      "display_name": "Python 3"
    },
    "language_info": {
      "name": "python"
    },
    "widgets": {
      "application/vnd.jupyter.widget-state+json": {
        "a7d223835261426dad79f31d83edc6ec": {
          "model_module": "@jupyter-widgets/controls",
          "model_name": "HBoxModel",
          "model_module_version": "1.5.0",
          "state": {
            "_dom_classes": [],
            "_model_module": "@jupyter-widgets/controls",
            "_model_module_version": "1.5.0",
            "_model_name": "HBoxModel",
            "_view_count": null,
            "_view_module": "@jupyter-widgets/controls",
            "_view_module_version": "1.5.0",
            "_view_name": "HBoxView",
            "box_style": "",
            "children": [
              "IPY_MODEL_9708c7d0ad24489db3d97898171fee9f",
              "IPY_MODEL_c571f0b606594f06842fa36801d8831d",
              "IPY_MODEL_206f77b436d94bebadc9a53d4aec71e3"
            ],
            "layout": "IPY_MODEL_141ba57c7d2245f8b7a334dcced33c21"
          }
        },
        "9708c7d0ad24489db3d97898171fee9f": {
          "model_module": "@jupyter-widgets/controls",
          "model_name": "HTMLModel",
          "model_module_version": "1.5.0",
          "state": {
            "_dom_classes": [],
            "_model_module": "@jupyter-widgets/controls",
            "_model_module_version": "1.5.0",
            "_model_name": "HTMLModel",
            "_view_count": null,
            "_view_module": "@jupyter-widgets/controls",
            "_view_module_version": "1.5.0",
            "_view_name": "HTMLView",
            "description": "",
            "description_tooltip": null,
            "layout": "IPY_MODEL_6b6ee26d4a7c458bb1516995dcd46024",
            "placeholder": "​",
            "style": "IPY_MODEL_a85c184670234226974948dbab0e540e",
            "value": "100%"
          }
        },
        "c571f0b606594f06842fa36801d8831d": {
          "model_module": "@jupyter-widgets/controls",
          "model_name": "FloatProgressModel",
          "model_module_version": "1.5.0",
          "state": {
            "_dom_classes": [],
            "_model_module": "@jupyter-widgets/controls",
            "_model_module_version": "1.5.0",
            "_model_name": "FloatProgressModel",
            "_view_count": null,
            "_view_module": "@jupyter-widgets/controls",
            "_view_module_version": "1.5.0",
            "_view_name": "ProgressView",
            "bar_style": "success",
            "description": "",
            "description_tooltip": null,
            "layout": "IPY_MODEL_6dc8152fe91b40ccaaf8332fe6aace9f",
            "max": 9464212,
            "min": 0,
            "orientation": "horizontal",
            "style": "IPY_MODEL_56a52d2a220045c4ab5bbc89a0010b6e",
            "value": 9464212
          }
        },
        "206f77b436d94bebadc9a53d4aec71e3": {
          "model_module": "@jupyter-widgets/controls",
          "model_name": "HTMLModel",
          "model_module_version": "1.5.0",
          "state": {
            "_dom_classes": [],
            "_model_module": "@jupyter-widgets/controls",
            "_model_module_version": "1.5.0",
            "_model_name": "HTMLModel",
            "_view_count": null,
            "_view_module": "@jupyter-widgets/controls",
            "_view_module_version": "1.5.0",
            "_view_name": "HTMLView",
            "description": "",
            "description_tooltip": null,
            "layout": "IPY_MODEL_1aeec665e446467e9095f3e766313b4e",
            "placeholder": "​",
            "style": "IPY_MODEL_1eaeac973f824347912905246517a681",
            "value": " 9464212/9464212 [00:00&lt;00:00, 75064542.81it/s]"
          }
        },
        "141ba57c7d2245f8b7a334dcced33c21": {
          "model_module": "@jupyter-widgets/base",
          "model_name": "LayoutModel",
          "model_module_version": "1.2.0",
          "state": {
            "_model_module": "@jupyter-widgets/base",
            "_model_module_version": "1.2.0",
            "_model_name": "LayoutModel",
            "_view_count": null,
            "_view_module": "@jupyter-widgets/base",
            "_view_module_version": "1.2.0",
            "_view_name": "LayoutView",
            "align_content": null,
            "align_items": null,
            "align_self": null,
            "border": null,
            "bottom": null,
            "display": null,
            "flex": null,
            "flex_flow": null,
            "grid_area": null,
            "grid_auto_columns": null,
            "grid_auto_flow": null,
            "grid_auto_rows": null,
            "grid_column": null,
            "grid_gap": null,
            "grid_row": null,
            "grid_template_areas": null,
            "grid_template_columns": null,
            "grid_template_rows": null,
            "height": null,
            "justify_content": null,
            "justify_items": null,
            "left": null,
            "margin": null,
            "max_height": null,
            "max_width": null,
            "min_height": null,
            "min_width": null,
            "object_fit": null,
            "object_position": null,
            "order": null,
            "overflow": null,
            "overflow_x": null,
            "overflow_y": null,
            "padding": null,
            "right": null,
            "top": null,
            "visibility": null,
            "width": null
          }
        },
        "6b6ee26d4a7c458bb1516995dcd46024": {
          "model_module": "@jupyter-widgets/base",
          "model_name": "LayoutModel",
          "model_module_version": "1.2.0",
          "state": {
            "_model_module": "@jupyter-widgets/base",
            "_model_module_version": "1.2.0",
            "_model_name": "LayoutModel",
            "_view_count": null,
            "_view_module": "@jupyter-widgets/base",
            "_view_module_version": "1.2.0",
            "_view_name": "LayoutView",
            "align_content": null,
            "align_items": null,
            "align_self": null,
            "border": null,
            "bottom": null,
            "display": null,
            "flex": null,
            "flex_flow": null,
            "grid_area": null,
            "grid_auto_columns": null,
            "grid_auto_flow": null,
            "grid_auto_rows": null,
            "grid_column": null,
            "grid_gap": null,
            "grid_row": null,
            "grid_template_areas": null,
            "grid_template_columns": null,
            "grid_template_rows": null,
            "height": null,
            "justify_content": null,
            "justify_items": null,
            "left": null,
            "margin": null,
            "max_height": null,
            "max_width": null,
            "min_height": null,
            "min_width": null,
            "object_fit": null,
            "object_position": null,
            "order": null,
            "overflow": null,
            "overflow_x": null,
            "overflow_y": null,
            "padding": null,
            "right": null,
            "top": null,
            "visibility": null,
            "width": null
          }
        },
        "a85c184670234226974948dbab0e540e": {
          "model_module": "@jupyter-widgets/controls",
          "model_name": "DescriptionStyleModel",
          "model_module_version": "1.5.0",
          "state": {
            "_model_module": "@jupyter-widgets/controls",
            "_model_module_version": "1.5.0",
            "_model_name": "DescriptionStyleModel",
            "_view_count": null,
            "_view_module": "@jupyter-widgets/base",
            "_view_module_version": "1.2.0",
            "_view_name": "StyleView",
            "description_width": ""
          }
        },
        "6dc8152fe91b40ccaaf8332fe6aace9f": {
          "model_module": "@jupyter-widgets/base",
          "model_name": "LayoutModel",
          "model_module_version": "1.2.0",
          "state": {
            "_model_module": "@jupyter-widgets/base",
            "_model_module_version": "1.2.0",
            "_model_name": "LayoutModel",
            "_view_count": null,
            "_view_module": "@jupyter-widgets/base",
            "_view_module_version": "1.2.0",
            "_view_name": "LayoutView",
            "align_content": null,
            "align_items": null,
            "align_self": null,
            "border": null,
            "bottom": null,
            "display": null,
            "flex": null,
            "flex_flow": null,
            "grid_area": null,
            "grid_auto_columns": null,
            "grid_auto_flow": null,
            "grid_auto_rows": null,
            "grid_column": null,
            "grid_gap": null,
            "grid_row": null,
            "grid_template_areas": null,
            "grid_template_columns": null,
            "grid_template_rows": null,
            "height": null,
            "justify_content": null,
            "justify_items": null,
            "left": null,
            "margin": null,
            "max_height": null,
            "max_width": null,
            "min_height": null,
            "min_width": null,
            "object_fit": null,
            "object_position": null,
            "order": null,
            "overflow": null,
            "overflow_x": null,
            "overflow_y": null,
            "padding": null,
            "right": null,
            "top": null,
            "visibility": null,
            "width": null
          }
        },
        "56a52d2a220045c4ab5bbc89a0010b6e": {
          "model_module": "@jupyter-widgets/controls",
          "model_name": "ProgressStyleModel",
          "model_module_version": "1.5.0",
          "state": {
            "_model_module": "@jupyter-widgets/controls",
            "_model_module_version": "1.5.0",
            "_model_name": "ProgressStyleModel",
            "_view_count": null,
            "_view_module": "@jupyter-widgets/base",
            "_view_module_version": "1.2.0",
            "_view_name": "StyleView",
            "bar_color": null,
            "description_width": ""
          }
        },
        "1aeec665e446467e9095f3e766313b4e": {
          "model_module": "@jupyter-widgets/base",
          "model_name": "LayoutModel",
          "model_module_version": "1.2.0",
          "state": {
            "_model_module": "@jupyter-widgets/base",
            "_model_module_version": "1.2.0",
            "_model_name": "LayoutModel",
            "_view_count": null,
            "_view_module": "@jupyter-widgets/base",
            "_view_module_version": "1.2.0",
            "_view_name": "LayoutView",
            "align_content": null,
            "align_items": null,
            "align_self": null,
            "border": null,
            "bottom": null,
            "display": null,
            "flex": null,
            "flex_flow": null,
            "grid_area": null,
            "grid_auto_columns": null,
            "grid_auto_flow": null,
            "grid_auto_rows": null,
            "grid_column": null,
            "grid_gap": null,
            "grid_row": null,
            "grid_template_areas": null,
            "grid_template_columns": null,
            "grid_template_rows": null,
            "height": null,
            "justify_content": null,
            "justify_items": null,
            "left": null,
            "margin": null,
            "max_height": null,
            "max_width": null,
            "min_height": null,
            "min_width": null,
            "object_fit": null,
            "object_position": null,
            "order": null,
            "overflow": null,
            "overflow_x": null,
            "overflow_y": null,
            "padding": null,
            "right": null,
            "top": null,
            "visibility": null,
            "width": null
          }
        },
        "1eaeac973f824347912905246517a681": {
          "model_module": "@jupyter-widgets/controls",
          "model_name": "DescriptionStyleModel",
          "model_module_version": "1.5.0",
          "state": {
            "_model_module": "@jupyter-widgets/controls",
            "_model_module_version": "1.5.0",
            "_model_name": "DescriptionStyleModel",
            "_view_count": null,
            "_view_module": "@jupyter-widgets/base",
            "_view_module_version": "1.2.0",
            "_view_name": "StyleView",
            "description_width": ""
          }
        },
        "9ff1a3c52ba74b978d62fa1abd22dcf0": {
          "model_module": "@jupyter-widgets/controls",
          "model_name": "HBoxModel",
          "model_module_version": "1.5.0",
          "state": {
            "_dom_classes": [],
            "_model_module": "@jupyter-widgets/controls",
            "_model_module_version": "1.5.0",
            "_model_name": "HBoxModel",
            "_view_count": null,
            "_view_module": "@jupyter-widgets/controls",
            "_view_module_version": "1.5.0",
            "_view_name": "HBoxView",
            "box_style": "",
            "children": [
              "IPY_MODEL_fcd0e2ad49974f0fa2682009dec589b8",
              "IPY_MODEL_9ac4ba6835e844a395d13f5e47a479dd",
              "IPY_MODEL_59ba6940dcdc4146802c4543ff9ab527"
            ],
            "layout": "IPY_MODEL_a788f963e6864c17b37e9d15af9864e4"
          }
        },
        "fcd0e2ad49974f0fa2682009dec589b8": {
          "model_module": "@jupyter-widgets/controls",
          "model_name": "HTMLModel",
          "model_module_version": "1.5.0",
          "state": {
            "_dom_classes": [],
            "_model_module": "@jupyter-widgets/controls",
            "_model_module_version": "1.5.0",
            "_model_name": "HTMLModel",
            "_view_count": null,
            "_view_module": "@jupyter-widgets/controls",
            "_view_module_version": "1.5.0",
            "_view_name": "HTMLView",
            "description": "",
            "description_tooltip": null,
            "layout": "IPY_MODEL_ecb208cc7da447fa8b0966458866b622",
            "placeholder": "​",
            "style": "IPY_MODEL_c2a33aa7c061474988f69e228b258e4c",
            "value": "100%"
          }
        },
        "9ac4ba6835e844a395d13f5e47a479dd": {
          "model_module": "@jupyter-widgets/controls",
          "model_name": "FloatProgressModel",
          "model_module_version": "1.5.0",
          "state": {
            "_dom_classes": [],
            "_model_module": "@jupyter-widgets/controls",
            "_model_module_version": "1.5.0",
            "_model_name": "FloatProgressModel",
            "_view_count": null,
            "_view_module": "@jupyter-widgets/controls",
            "_view_module_version": "1.5.0",
            "_view_name": "ProgressView",
            "bar_style": "success",
            "description": "",
            "description_tooltip": null,
            "layout": "IPY_MODEL_4b9ffe4e338a44b091a58c869153c2a4",
            "max": 6462886,
            "min": 0,
            "orientation": "horizontal",
            "style": "IPY_MODEL_a942d5e8751640e1a66f913bb897e283",
            "value": 6462886
          }
        },
        "59ba6940dcdc4146802c4543ff9ab527": {
          "model_module": "@jupyter-widgets/controls",
          "model_name": "HTMLModel",
          "model_module_version": "1.5.0",
          "state": {
            "_dom_classes": [],
            "_model_module": "@jupyter-widgets/controls",
            "_model_module_version": "1.5.0",
            "_model_name": "HTMLModel",
            "_view_count": null,
            "_view_module": "@jupyter-widgets/controls",
            "_view_module_version": "1.5.0",
            "_view_name": "HTMLView",
            "description": "",
            "description_tooltip": null,
            "layout": "IPY_MODEL_5fcf342a2c524498bd2a0523339a706e",
            "placeholder": "​",
            "style": "IPY_MODEL_da7df37ab5ee4ba1a2a13f3ac471237e",
            "value": " 6462886/6462886 [00:00&lt;00:00, 68373893.26it/s]"
          }
        },
        "a788f963e6864c17b37e9d15af9864e4": {
          "model_module": "@jupyter-widgets/base",
          "model_name": "LayoutModel",
          "model_module_version": "1.2.0",
          "state": {
            "_model_module": "@jupyter-widgets/base",
            "_model_module_version": "1.2.0",
            "_model_name": "LayoutModel",
            "_view_count": null,
            "_view_module": "@jupyter-widgets/base",
            "_view_module_version": "1.2.0",
            "_view_name": "LayoutView",
            "align_content": null,
            "align_items": null,
            "align_self": null,
            "border": null,
            "bottom": null,
            "display": null,
            "flex": null,
            "flex_flow": null,
            "grid_area": null,
            "grid_auto_columns": null,
            "grid_auto_flow": null,
            "grid_auto_rows": null,
            "grid_column": null,
            "grid_gap": null,
            "grid_row": null,
            "grid_template_areas": null,
            "grid_template_columns": null,
            "grid_template_rows": null,
            "height": null,
            "justify_content": null,
            "justify_items": null,
            "left": null,
            "margin": null,
            "max_height": null,
            "max_width": null,
            "min_height": null,
            "min_width": null,
            "object_fit": null,
            "object_position": null,
            "order": null,
            "overflow": null,
            "overflow_x": null,
            "overflow_y": null,
            "padding": null,
            "right": null,
            "top": null,
            "visibility": null,
            "width": null
          }
        },
        "ecb208cc7da447fa8b0966458866b622": {
          "model_module": "@jupyter-widgets/base",
          "model_name": "LayoutModel",
          "model_module_version": "1.2.0",
          "state": {
            "_model_module": "@jupyter-widgets/base",
            "_model_module_version": "1.2.0",
            "_model_name": "LayoutModel",
            "_view_count": null,
            "_view_module": "@jupyter-widgets/base",
            "_view_module_version": "1.2.0",
            "_view_name": "LayoutView",
            "align_content": null,
            "align_items": null,
            "align_self": null,
            "border": null,
            "bottom": null,
            "display": null,
            "flex": null,
            "flex_flow": null,
            "grid_area": null,
            "grid_auto_columns": null,
            "grid_auto_flow": null,
            "grid_auto_rows": null,
            "grid_column": null,
            "grid_gap": null,
            "grid_row": null,
            "grid_template_areas": null,
            "grid_template_columns": null,
            "grid_template_rows": null,
            "height": null,
            "justify_content": null,
            "justify_items": null,
            "left": null,
            "margin": null,
            "max_height": null,
            "max_width": null,
            "min_height": null,
            "min_width": null,
            "object_fit": null,
            "object_position": null,
            "order": null,
            "overflow": null,
            "overflow_x": null,
            "overflow_y": null,
            "padding": null,
            "right": null,
            "top": null,
            "visibility": null,
            "width": null
          }
        },
        "c2a33aa7c061474988f69e228b258e4c": {
          "model_module": "@jupyter-widgets/controls",
          "model_name": "DescriptionStyleModel",
          "model_module_version": "1.5.0",
          "state": {
            "_model_module": "@jupyter-widgets/controls",
            "_model_module_version": "1.5.0",
            "_model_name": "DescriptionStyleModel",
            "_view_count": null,
            "_view_module": "@jupyter-widgets/base",
            "_view_module_version": "1.2.0",
            "_view_name": "StyleView",
            "description_width": ""
          }
        },
        "4b9ffe4e338a44b091a58c869153c2a4": {
          "model_module": "@jupyter-widgets/base",
          "model_name": "LayoutModel",
          "model_module_version": "1.2.0",
          "state": {
            "_model_module": "@jupyter-widgets/base",
            "_model_module_version": "1.2.0",
            "_model_name": "LayoutModel",
            "_view_count": null,
            "_view_module": "@jupyter-widgets/base",
            "_view_module_version": "1.2.0",
            "_view_name": "LayoutView",
            "align_content": null,
            "align_items": null,
            "align_self": null,
            "border": null,
            "bottom": null,
            "display": null,
            "flex": null,
            "flex_flow": null,
            "grid_area": null,
            "grid_auto_columns": null,
            "grid_auto_flow": null,
            "grid_auto_rows": null,
            "grid_column": null,
            "grid_gap": null,
            "grid_row": null,
            "grid_template_areas": null,
            "grid_template_columns": null,
            "grid_template_rows": null,
            "height": null,
            "justify_content": null,
            "justify_items": null,
            "left": null,
            "margin": null,
            "max_height": null,
            "max_width": null,
            "min_height": null,
            "min_width": null,
            "object_fit": null,
            "object_position": null,
            "order": null,
            "overflow": null,
            "overflow_x": null,
            "overflow_y": null,
            "padding": null,
            "right": null,
            "top": null,
            "visibility": null,
            "width": null
          }
        },
        "a942d5e8751640e1a66f913bb897e283": {
          "model_module": "@jupyter-widgets/controls",
          "model_name": "ProgressStyleModel",
          "model_module_version": "1.5.0",
          "state": {
            "_model_module": "@jupyter-widgets/controls",
            "_model_module_version": "1.5.0",
            "_model_name": "ProgressStyleModel",
            "_view_count": null,
            "_view_module": "@jupyter-widgets/base",
            "_view_module_version": "1.2.0",
            "_view_name": "StyleView",
            "bar_color": null,
            "description_width": ""
          }
        },
        "5fcf342a2c524498bd2a0523339a706e": {
          "model_module": "@jupyter-widgets/base",
          "model_name": "LayoutModel",
          "model_module_version": "1.2.0",
          "state": {
            "_model_module": "@jupyter-widgets/base",
            "_model_module_version": "1.2.0",
            "_model_name": "LayoutModel",
            "_view_count": null,
            "_view_module": "@jupyter-widgets/base",
            "_view_module_version": "1.2.0",
            "_view_name": "LayoutView",
            "align_content": null,
            "align_items": null,
            "align_self": null,
            "border": null,
            "bottom": null,
            "display": null,
            "flex": null,
            "flex_flow": null,
            "grid_area": null,
            "grid_auto_columns": null,
            "grid_auto_flow": null,
            "grid_auto_rows": null,
            "grid_column": null,
            "grid_gap": null,
            "grid_row": null,
            "grid_template_areas": null,
            "grid_template_columns": null,
            "grid_template_rows": null,
            "height": null,
            "justify_content": null,
            "justify_items": null,
            "left": null,
            "margin": null,
            "max_height": null,
            "max_width": null,
            "min_height": null,
            "min_width": null,
            "object_fit": null,
            "object_position": null,
            "order": null,
            "overflow": null,
            "overflow_x": null,
            "overflow_y": null,
            "padding": null,
            "right": null,
            "top": null,
            "visibility": null,
            "width": null
          }
        },
        "da7df37ab5ee4ba1a2a13f3ac471237e": {
          "model_module": "@jupyter-widgets/controls",
          "model_name": "DescriptionStyleModel",
          "model_module_version": "1.5.0",
          "state": {
            "_model_module": "@jupyter-widgets/controls",
            "_model_module_version": "1.5.0",
            "_model_name": "DescriptionStyleModel",
            "_view_count": null,
            "_view_module": "@jupyter-widgets/base",
            "_view_module_version": "1.2.0",
            "_view_name": "StyleView",
            "description_width": ""
          }
        }
      }
    },
    "gpuClass": "standard",
    "accelerator": "GPU"
  },
  "cells": [
    {
      "cell_type": "code",
      "execution_count": 1,
      "metadata": {
        "id": "5F1dg5Hct9kE",
        "colab": {
          "base_uri": "https://localhost:8080/"
        },
        "outputId": "2fd3b443-0ad3-4bb1-cc8d-5510e82ae0f0"
      },
      "outputs": [
        {
          "output_type": "stream",
          "name": "stdout",
          "text": [
            "cuda:0\n"
          ]
        }
      ],
      "source": [
        "from torchvision.datasets import Omniglot\n",
        "from torchvision import transforms, models\n",
        "from torch.utils.data import Sampler, DataLoader\n",
        "import matplotlib.pyplot as plt\n",
        "import random\n",
        "import numpy as np\n",
        "import torch\n",
        "import torchvision\n",
        "import torch.nn.functional as F\n",
        "\n",
        "np.random.seed(0)\n",
        "torch.manual_seed(0)\n",
        "device = torch.device(\"cuda:0\" if torch.cuda.is_available() else \"cpu\")\n",
        "print(device)"
      ]
    },
    {
      "cell_type": "code",
      "source": [
        "train = Omniglot(root=\"./data\", download=True,background=True,\n",
        "    transform=transforms.Compose(\n",
        "        [\n",
        "          transforms.Grayscale(num_output_channels=3),\n",
        "         transforms.Resize(28),\n",
        "         transforms.ToTensor()\n",
        "        ]\n",
        "    )\n",
        ")\n",
        "train_size = int(0.8*len(train))\n",
        "val_size = int(0.2*len(train))\n",
        "\n",
        "train_data, val_data = torch.utils.data.random_split(train, [train_size, val_size])\n",
        "\n",
        "test_data = Omniglot(root=\"./data\", download=True,background=False,\n",
        "    transform=transforms.Compose(\n",
        "        [\n",
        "          transforms.Grayscale(num_output_channels=3),\n",
        "         transforms.Resize(28),\n",
        "         transforms.ToTensor()\n",
        "        ]\n",
        "    ),\n",
        ")"
      ],
      "metadata": {
        "colab": {
          "base_uri": "https://localhost:8080/",
          "height": 170,
          "referenced_widgets": [
            "a7d223835261426dad79f31d83edc6ec",
            "9708c7d0ad24489db3d97898171fee9f",
            "c571f0b606594f06842fa36801d8831d",
            "206f77b436d94bebadc9a53d4aec71e3",
            "141ba57c7d2245f8b7a334dcced33c21",
            "6b6ee26d4a7c458bb1516995dcd46024",
            "a85c184670234226974948dbab0e540e",
            "6dc8152fe91b40ccaaf8332fe6aace9f",
            "56a52d2a220045c4ab5bbc89a0010b6e",
            "1aeec665e446467e9095f3e766313b4e",
            "1eaeac973f824347912905246517a681",
            "9ff1a3c52ba74b978d62fa1abd22dcf0",
            "fcd0e2ad49974f0fa2682009dec589b8",
            "9ac4ba6835e844a395d13f5e47a479dd",
            "59ba6940dcdc4146802c4543ff9ab527",
            "a788f963e6864c17b37e9d15af9864e4",
            "ecb208cc7da447fa8b0966458866b622",
            "c2a33aa7c061474988f69e228b258e4c",
            "4b9ffe4e338a44b091a58c869153c2a4",
            "a942d5e8751640e1a66f913bb897e283",
            "5fcf342a2c524498bd2a0523339a706e",
            "da7df37ab5ee4ba1a2a13f3ac471237e"
          ]
        },
        "id": "oH1t7c7YwYPZ",
        "outputId": "295ff794-a291-45e9-9209-df7f4cc58ba6"
      },
      "execution_count": 2,
      "outputs": [
        {
          "output_type": "stream",
          "name": "stdout",
          "text": [
            "Downloading https://raw.githubusercontent.com/brendenlake/omniglot/master/python/images_background.zip to ./data/omniglot-py/images_background.zip\n"
          ]
        },
        {
          "output_type": "display_data",
          "data": {
            "text/plain": [
              "  0%|          | 0/9464212 [00:00<?, ?it/s]"
            ],
            "application/vnd.jupyter.widget-view+json": {
              "version_major": 2,
              "version_minor": 0,
              "model_id": "a7d223835261426dad79f31d83edc6ec"
            }
          },
          "metadata": {}
        },
        {
          "output_type": "stream",
          "name": "stdout",
          "text": [
            "Extracting ./data/omniglot-py/images_background.zip to ./data/omniglot-py\n",
            "Downloading https://raw.githubusercontent.com/brendenlake/omniglot/master/python/images_evaluation.zip to ./data/omniglot-py/images_evaluation.zip\n"
          ]
        },
        {
          "output_type": "display_data",
          "data": {
            "text/plain": [
              "  0%|          | 0/6462886 [00:00<?, ?it/s]"
            ],
            "application/vnd.jupyter.widget-view+json": {
              "version_major": 2,
              "version_minor": 0,
              "model_id": "9ff1a3c52ba74b978d62fa1abd22dcf0"
            }
          },
          "metadata": {}
        },
        {
          "output_type": "stream",
          "name": "stdout",
          "text": [
            "Extracting ./data/omniglot-py/images_evaluation.zip to ./data/omniglot-py\n"
          ]
        }
      ]
    },
    {
      "cell_type": "code",
      "source": [
        "print(len(train_data))\n",
        "print(len(val_data))\n",
        "print(len(test_data))"
      ],
      "metadata": {
        "colab": {
          "base_uri": "https://localhost:8080/"
        },
        "id": "smUXDdnqpm9K",
        "outputId": "b0ab9374-8008-4a8f-85eb-6a1052efbd7d"
      },
      "execution_count": 3,
      "outputs": [
        {
          "output_type": "stream",
          "name": "stdout",
          "text": [
            "15424\n",
            "3856\n",
            "13180\n"
          ]
        }
      ]
    },
    {
      "cell_type": "code",
      "source": [
        "image, label = test_data[50]\n",
        "\n",
        "print(image.shape)\n",
        "image=image.permute(1, 2, 0)\n",
        "plt.imshow(image.numpy())\n",
        "plt.show()"
      ],
      "metadata": {
        "colab": {
          "base_uri": "https://localhost:8080/",
          "height": 282
        },
        "id": "QHPDMhI9wzD6",
        "outputId": "c339f86a-f263-49fa-8508-96fecad80812"
      },
      "execution_count": 4,
      "outputs": [
        {
          "output_type": "stream",
          "name": "stdout",
          "text": [
            "torch.Size([3, 28, 28])\n"
          ]
        },
        {
          "output_type": "display_data",
          "data": {
            "text/plain": [
              "<Figure size 432x288 with 1 Axes>"
            ],
            "image/png": "[encoded data removed]"
          },
          "metadata": {
            "needs_background": "light"
          }
        }
      ]
    },
    {
      "cell_type": "code",
      "source": [
        "n=5\n",
        "n_s=2\n",
        "n_q =1"
      ],
      "metadata": {
        "id": "A-LuVVWXGrS2"
      },
      "execution_count": 46,
      "outputs": []
    },
    {
      "cell_type": "code",
      "source": [
        "class CustomSampler(Sampler):\n",
        "  def __init__(self, dataset,batch_size,n,n_s, n_q) -> None:\n",
        "    self.d = {}\n",
        "    self.n=n\n",
        "    self.n_s=n_s\n",
        "    self.n_q=n_q\n",
        "    self.batch_size=batch_size\n",
        "    for i,j in enumerate(dataset):\n",
        "      if j[1] not in self.d:\n",
        "        self.d[j[1]]=[i]\n",
        "      else:\n",
        "        self.d[j[1]].append(i)\n",
        "    \n",
        "    # print(len(self.d[0]))\n",
        "\n",
        "  def __iter__ (self):\n",
        "    l=[]\n",
        "    for i in range(self.batch_size):\n",
        "      labels = random.sample(list(self.d.keys()),self.n)\n",
        "      x = np.array([random.sample(self.d[j],self.n_s+self.n_q) for j in labels])\n",
        "      l.append(np.concatenate(x).ravel().tolist())\n",
        "    return iter(l)\n",
        "\n",
        "  def __len__(self):\n",
        "    return self.batch_size"
      ],
      "metadata": {
        "id": "QOAbWD8n9YLX"
      },
      "execution_count": 24,
      "outputs": []
    },
    {
      "cell_type": "code",
      "source": [
        "def shuffle(a,b):\n",
        "  assert len(a)==len(b)\n",
        "  a = torch.stack(a)\n",
        "  b = torch.tensor(b,dtype=torch.int)\n",
        "  p = np.random.permutation(len(a))\n",
        "  return a[p],b[p]\n",
        "  # return a,b\n",
        "\n",
        "def collate_func(batch):\n",
        "  x_s, y_s, x_q, y_q = [],[],[],[]\n",
        "  d= {}\n",
        "  for i,j in batch:\n",
        "    if j not in d:\n",
        "      d[j]=[i]\n",
        "    else:\n",
        "      d[j].append(i)\n",
        "  \n",
        "  for idx, (k,v) in enumerate(d.items()):\n",
        "    random.shuffle(v)\n",
        "    # print(len(v))\n",
        "    y_q+=[idx]*len(v[:n_q])\n",
        "    x_q+=v[:n_q]\n",
        "    x_s+= v[n_q:]\n",
        "    y_s+= [idx]*len(v[n_q:])\n",
        "  \n",
        "  # print(len(x_s),len(y_s))\n",
        "  x_s, y_s = shuffle(x_s,y_s)\n",
        "  x_q, y_q = shuffle(x_q, y_q)\n",
        "\n",
        "  return x_s,y_s,x_q,y_q"
      ],
      "metadata": {
        "id": "C8weHEt7BnH5"
      },
      "execution_count": 11,
      "outputs": []
    },
    {
      "cell_type": "code",
      "source": [
        "batches = CustomSampler(train_data,8,n,n_s,n_q)\n",
        "for i in batches:\n",
        "  print(i)"
      ],
      "metadata": {
        "colab": {
          "base_uri": "https://localhost:8080/"
        },
        "id": "270L-d2o7T_c",
        "outputId": "6d1dc623-7dd1-4b72-ca9e-c08c9efbd23c"
      },
      "execution_count": 12,
      "outputs": [
        {
          "output_type": "stream",
          "name": "stdout",
          "text": [
            "13\n",
            "[14963, 9525, 1311, 12926, 14824, 5543, 5922, 8105, 11283, 4696, 4337, 6848, 13274, 4409, 9922, 12197, 4422, 7183, 13456, 1408, 352, 8196, 10058, 12223, 8726, 10531, 8813, 5350, 1526, 9441, 5963, 6021, 3458]\n",
            "[9047, 10685, 6912, 11335, 1421, 12698, 7463, 3706, 7577, 6013, 707, 11751, 14767, 1664, 7589, 13541, 5011, 1546, 4765, 13232, 9522, 2538, 7260, 6626, 10736, 15183, 14793, 5615, 5132, 13518, 11719, 6052, 2063]\n",
            "[6479, 5188, 14754, 12289, 12252, 5425, 1654, 4083, 9473, 8419, 4147, 6517, 3440, 12793, 6406, 11685, 1454, 560, 7874, 4471, 3481, 7867, 5509, 2024, 4477, 1418, 7470, 6705, 8389, 11701, 5807, 9830, 63]\n",
            "[13600, 15092, 1010, 10490, 2472, 9741, 1954, 13402, 1282, 8670, 8008, 8828, 525, 3051, 5991, 6267, 6669, 1764, 3332, 3121, 11291, 2496, 1626, 11313, 2886, 12827, 5372, 6186, 3285, 5792, 7355, 7315, 14751]\n",
            "[5103, 1983, 4464, 4297, 14300, 13235, 6197, 7786, 13467, 2906, 11735, 10188, 11097, 5121, 12164, 2381, 6418, 3747, 1900, 14920, 541, 6235, 798, 1545, 13763, 12757, 13208, 6932, 6128, 3012, 9530, 12038, 13122]\n",
            "[8632, 14444, 12136, 3896, 5868, 15272, 13971, 8652, 1056, 1135, 2927, 8720, 6291, 13042, 6875, 9340, 15, 12133, 9158, 15194, 14058, 6005, 8741, 9385, 8697, 3944, 10205, 12456, 4535, 3200, 3331, 7966, 6643]\n",
            "[7640, 7054, 13177, 7957, 14434, 5386, 332, 6496, 8282, 4925, 14021, 6689, 15041, 5284, 4729, 3402, 9332, 7614, 11103, 12603, 6740, 10699, 6685, 10964, 10249, 4259, 11345, 6419, 1294, 9665, 10197, 14698, 9273]\n",
            "[5629, 7180, 3203, 7632, 3298, 12688, 10074, 7348, 6777, 4283, 3923, 10680, 12320, 7777, 9787, 10817, 4953, 4227, 6917, 3746, 8711, 12996, 9671, 496, 8030, 10042, 6553, 5942, 11747, 8103, 3982, 9627, 7157]\n"
          ]
        }
      ]
    },
    {
      "cell_type": "code",
      "source": [
        "x = DataLoader(train_data, batch_sampler=batches, collate_fn=collate_func)\n",
        "for xs,ys,xq,yq in x:\n",
        "  print(xq.shape)\n",
        "  print(yq)\n",
        "  print(xs.shape)\n",
        "  print(ys)"
      ],
      "metadata": {
        "colab": {
          "base_uri": "https://localhost:8080/"
        },
        "id": "22_vKPLAhahH",
        "outputId": "b60b5be6-58e3-4241-b4b4-3aea11991b76"
      },
      "execution_count": 13,
      "outputs": [
        {
          "output_type": "stream",
          "name": "stdout",
          "text": [
            "torch.Size([30, 3, 28, 28])\n",
            "tensor([1, 2, 1, 0, 1, 1, 2, 2, 2, 1, 2, 0, 1, 0, 1, 2, 2, 0, 1, 0, 0, 1, 2, 1,\n",
            "        0, 0, 2, 0, 0, 2], dtype=torch.int32)\n",
            "torch.Size([3, 3, 28, 28])\n",
            "tensor([2, 1, 0], dtype=torch.int32)\n",
            "torch.Size([30, 3, 28, 28])\n",
            "tensor([2, 1, 1, 2, 1, 2, 2, 2, 2, 2, 0, 0, 1, 0, 0, 1, 2, 0, 1, 1, 0, 2, 1, 2,\n",
            "        0, 0, 0, 0, 1, 1], dtype=torch.int32)\n",
            "torch.Size([3, 3, 28, 28])\n",
            "tensor([0, 2, 1], dtype=torch.int32)\n",
            "torch.Size([30, 3, 28, 28])\n",
            "tensor([2, 0, 0, 0, 0, 1, 2, 2, 0, 1, 2, 1, 1, 1, 2, 0, 2, 1, 1, 2, 2, 0, 1, 1,\n",
            "        1, 2, 0, 0, 2, 0], dtype=torch.int32)\n",
            "torch.Size([3, 3, 28, 28])\n",
            "tensor([0, 2, 1], dtype=torch.int32)\n",
            "torch.Size([30, 3, 28, 28])\n",
            "tensor([1, 1, 2, 0, 0, 1, 0, 2, 2, 1, 2, 2, 0, 2, 1, 1, 1, 2, 1, 0, 0, 1, 2, 2,\n",
            "        2, 0, 0, 0, 0, 1], dtype=torch.int32)\n",
            "torch.Size([3, 3, 28, 28])\n",
            "tensor([2, 0, 1], dtype=torch.int32)\n",
            "torch.Size([30, 3, 28, 28])\n",
            "tensor([2, 0, 1, 2, 0, 2, 1, 1, 2, 1, 0, 1, 0, 2, 0, 2, 0, 1, 1, 0, 0, 0, 2, 2,\n",
            "        1, 2, 2, 1, 1, 0], dtype=torch.int32)\n",
            "torch.Size([3, 3, 28, 28])\n",
            "tensor([0, 1, 2], dtype=torch.int32)\n",
            "torch.Size([30, 3, 28, 28])\n",
            "tensor([1, 2, 2, 1, 0, 0, 0, 1, 2, 0, 0, 1, 0, 0, 1, 2, 1, 2, 2, 2, 1, 2, 0, 1,\n",
            "        1, 1, 2, 0, 0, 2], dtype=torch.int32)\n",
            "torch.Size([3, 3, 28, 28])\n",
            "tensor([2, 0, 1], dtype=torch.int32)\n",
            "torch.Size([30, 3, 28, 28])\n",
            "tensor([0, 1, 2, 2, 1, 2, 0, 0, 1, 1, 1, 2, 1, 2, 2, 1, 2, 2, 0, 1, 0, 1, 2, 0,\n",
            "        0, 0, 0, 0, 1, 2], dtype=torch.int32)\n",
            "torch.Size([3, 3, 28, 28])\n",
            "tensor([0, 1, 2], dtype=torch.int32)\n",
            "torch.Size([30, 3, 28, 28])\n",
            "tensor([2, 1, 1, 1, 0, 0, 2, 1, 1, 0, 1, 1, 0, 0, 0, 2, 0, 2, 1, 2, 2, 1, 2, 0,\n",
            "        2, 0, 1, 2, 0, 2], dtype=torch.int32)\n",
            "torch.Size([3, 3, 28, 28])\n",
            "tensor([1, 0, 2], dtype=torch.int32)\n"
          ]
        }
      ]
    },
    {
      "cell_type": "code",
      "source": [
        "def view_batch(x_s):\n",
        "  grid_img = torchvision.utils.make_grid(x_s)\n",
        "  plt.imshow(grid_img.permute(1, 2, 0))  "
      ],
      "metadata": {
        "id": "FBOJP3n9WKKa"
      },
      "execution_count": 14,
      "outputs": []
    },
    {
      "cell_type": "code",
      "source": [
        "view_batch(xs)\n",
        "print(ys)"
      ],
      "metadata": {
        "colab": {
          "base_uri": "https://localhost:8080/",
          "height": 184
        },
        "id": "hWETLQbnl8CR",
        "outputId": "0427eaa0-5e2a-4b51-9e94-824402693890"
      },
      "execution_count": 15,
      "outputs": [
        {
          "output_type": "stream",
          "name": "stdout",
          "text": [
            "tensor([1, 0, 2], dtype=torch.int32)\n"
          ]
        },
        {
          "output_type": "display_data",
          "data": {
            "text/plain": [
              "<Figure size 432x288 with 1 Axes>"
            ],
            "image/png": "[encoded data removed]"
          },
          "metadata": {
            "needs_background": "light"
          }
        }
      ]
    },
    {
      "cell_type": "code",
      "source": [
        "view_batch(xq)\n",
        "print(yq)"
      ],
      "metadata": {
        "colab": {
          "base_uri": "https://localhost:8080/",
          "height": 255
        },
        "id": "4Lm_IlnKmBNw",
        "outputId": "2d53b4ad-1837-4c0c-d045-bbc4ea8c12f1"
      },
      "execution_count": 16,
      "outputs": [
        {
          "output_type": "stream",
          "name": "stdout",
          "text": [
            "tensor([2, 1, 1, 1, 0, 0, 2, 1, 1, 0, 1, 1, 0, 0, 0, 2, 0, 2, 1, 2, 2, 1, 2, 0,\n",
            "        2, 0, 1, 2, 0, 2], dtype=torch.int32)\n"
          ]
        },
        {
          "output_type": "display_data",
          "data": {
            "text/plain": [
              "<Figure size 432x288 with 1 Axes>"
            ],
            "image/png": "[encoded data removed]"
          },
          "metadata": {
            "needs_background": "light"
          }
        }
      ]
    },
    {
      "cell_type": "code",
      "source": [
        "class ProtoNet(torch.nn.Module):\n",
        "  def __init__(self):\n",
        "    super().__init__()\n",
        "    model = models.resnet18(pretrained=True)\n",
        "    self.conv_net = torch.nn.Sequential(*list(model.children())[:-1])\n",
        "  \n",
        "  def forward(self, xs, ys, xq):\n",
        "    x = self.conv_net(xs)\n",
        "    N = xq.shape[0]\n",
        "\n",
        "    prot = torch.stack([x[ys==i].mean(0) for i in range(N)]).detach()\n",
        "\n",
        "    # print(prot.shape)\n",
        "    pred = self.conv_net(xq)\n",
        "    # print(pred.shape)\n",
        "\n",
        "    dist = torch.zeros((pred.shape[0], prot.shape[0]))\n",
        "\n",
        "    for i in range(N):\n",
        "        t = torch.zeros(prot.shape[0])\n",
        "        for j in range(prot.shape[0]):\n",
        "            t[j] = torch.dist(pred[i],prot[j],2)\n",
        "        dist[i] = -t\n",
        "    return dist"
      ],
      "metadata": {
        "id": "XE2jIES8mQbU"
      },
      "execution_count": 17,
      "outputs": []
    },
    {
      "cell_type": "code",
      "source": [
        "batches = CustomSampler(train_data,16,n,n_s,n_q)\n",
        "x = DataLoader(train_data, batch_sampler=batches, collate_fn=collate_func)\n",
        "# x = next(iter(x))"
      ],
      "metadata": {
        "id": "cCVZ2-YfyIao"
      },
      "execution_count": 47,
      "outputs": []
    },
    {
      "cell_type": "code",
      "source": [
        "model = ProtoNet()\n",
        "model.to(device)\n",
        "# dist = model(x[0],x[1],x[2])"
      ],
      "metadata": {
        "colab": {
          "base_uri": "https://localhost:8080/"
        },
        "id": "_mZXcdUFqaan",
        "outputId": "a3bd981c-f202-4632-9fec-56eae72ece94"
      },
      "execution_count": 48,
      "outputs": [
        {
          "output_type": "stream",
          "name": "stderr",
          "text": [
            "/usr/local/lib/python3.7/dist-packages/torchvision/models/_utils.py:209: UserWarning: The parameter 'pretrained' is deprecated since 0.13 and will be removed in 0.15, please use 'weights' instead.\n",
            "  f\"The parameter '{pretrained_param}' is deprecated since 0.13 and will be removed in 0.15, \"\n",
            "/usr/local/lib/python3.7/dist-packages/torchvision/models/_utils.py:223: UserWarning: Arguments other than a weight enum or `None` for 'weights' are deprecated since 0.13 and will be removed in 0.15. The current behavior is equivalent to passing `weights=ResNet18_Weights.IMAGENET1K_V1`. You can also use `weights=ResNet18_Weights.DEFAULT` to get the most up-to-date weights.\n",
            "  warnings.warn(msg)\n"
          ]
        },
        {
          "output_type": "execute_result",
          "data": {
            "text/plain": [
              "ProtoNet(\n",
              "  (conv_net): Sequential(\n",
              "    (0): Conv2d(3, 64, kernel_size=(7, 7), stride=(2, 2), padding=(3, 3), bias=False)\n",
              "    (1): BatchNorm2d(64, eps=1e-05, momentum=0.1, affine=True, track_running_stats=True)\n",
              "    (2): ReLU(inplace=True)\n",
              "    (3): MaxPool2d(kernel_size=3, stride=2, padding=1, dilation=1, ceil_mode=False)\n",
              "    (4): Sequential(\n",
              "      (0): BasicBlock(\n",
              "        (conv1): Conv2d(64, 64, kernel_size=(3, 3), stride=(1, 1), padding=(1, 1), bias=False)\n",
              "        (bn1): BatchNorm2d(64, eps=1e-05, momentum=0.1, affine=True, track_running_stats=True)\n",
              "        (relu): ReLU(inplace=True)\n",
              "        (conv2): Conv2d(64, 64, kernel_size=(3, 3), stride=(1, 1), padding=(1, 1), bias=False)\n",
              "        (bn2): BatchNorm2d(64, eps=1e-05, momentum=0.1, affine=True, track_running_stats=True)\n",
              "      )\n",
              "      (1): BasicBlock(\n",
              "        (conv1): Conv2d(64, 64, kernel_size=(3, 3), stride=(1, 1), padding=(1, 1), bias=False)\n",
              "        (bn1): BatchNorm2d(64, eps=1e-05, momentum=0.1, affine=True, track_running_stats=True)\n",
              "        (relu): ReLU(inplace=True)\n",
              "        (conv2): Conv2d(64, 64, kernel_size=(3, 3), stride=(1, 1), padding=(1, 1), bias=False)\n",
              "        (bn2): BatchNorm2d(64, eps=1e-05, momentum=0.1, affine=True, track_running_stats=True)\n",
              "      )\n",
              "    )\n",
              "    (5): Sequential(\n",
              "      (0): BasicBlock(\n",
              "        (conv1): Conv2d(64, 128, kernel_size=(3, 3), stride=(2, 2), padding=(1, 1), bias=False)\n",
              "        (bn1): BatchNorm2d(128, eps=1e-05, momentum=0.1, affine=True, track_running_stats=True)\n",
              "        (relu): ReLU(inplace=True)\n",
              "        (conv2): Conv2d(128, 128, kernel_size=(3, 3), stride=(1, 1), padding=(1, 1), bias=False)\n",
              "        (bn2): BatchNorm2d(128, eps=1e-05, momentum=0.1, affine=True, track_running_stats=True)\n",
              "        (downsample): Sequential(\n",
              "          (0): Conv2d(64, 128, kernel_size=(1, 1), stride=(2, 2), bias=False)\n",
              "          (1): BatchNorm2d(128, eps=1e-05, momentum=0.1, affine=True, track_running_stats=True)\n",
              "        )\n",
              "      )\n",
              "      (1): BasicBlock(\n",
              "        (conv1): Conv2d(128, 128, kernel_size=(3, 3), stride=(1, 1), padding=(1, 1), bias=False)\n",
              "        (bn1): BatchNorm2d(128, eps=1e-05, momentum=0.1, affine=True, track_running_stats=True)\n",
              "        (relu): ReLU(inplace=True)\n",
              "        (conv2): Conv2d(128, 128, kernel_size=(3, 3), stride=(1, 1), padding=(1, 1), bias=False)\n",
              "        (bn2): BatchNorm2d(128, eps=1e-05, momentum=0.1, affine=True, track_running_stats=True)\n",
              "      )\n",
              "    )\n",
              "    (6): Sequential(\n",
              "      (0): BasicBlock(\n",
              "        (conv1): Conv2d(128, 256, kernel_size=(3, 3), stride=(2, 2), padding=(1, 1), bias=False)\n",
              "        (bn1): BatchNorm2d(256, eps=1e-05, momentum=0.1, affine=True, track_running_stats=True)\n",
              "        (relu): ReLU(inplace=True)\n",
              "        (conv2): Conv2d(256, 256, kernel_size=(3, 3), stride=(1, 1), padding=(1, 1), bias=False)\n",
              "        (bn2): BatchNorm2d(256, eps=1e-05, momentum=0.1, affine=True, track_running_stats=True)\n",
              "        (downsample): Sequential(\n",
              "          (0): Conv2d(128, 256, kernel_size=(1, 1), stride=(2, 2), bias=False)\n",
              "          (1): BatchNorm2d(256, eps=1e-05, momentum=0.1, affine=True, track_running_stats=True)\n",
              "        )\n",
              "      )\n",
              "      (1): BasicBlock(\n",
              "        (conv1): Conv2d(256, 256, kernel_size=(3, 3), stride=(1, 1), padding=(1, 1), bias=False)\n",
              "        (bn1): BatchNorm2d(256, eps=1e-05, momentum=0.1, affine=True, track_running_stats=True)\n",
              "        (relu): ReLU(inplace=True)\n",
              "        (conv2): Conv2d(256, 256, kernel_size=(3, 3), stride=(1, 1), padding=(1, 1), bias=False)\n",
              "        (bn2): BatchNorm2d(256, eps=1e-05, momentum=0.1, affine=True, track_running_stats=True)\n",
              "      )\n",
              "    )\n",
              "    (7): Sequential(\n",
              "      (0): BasicBlock(\n",
              "        (conv1): Conv2d(256, 512, kernel_size=(3, 3), stride=(2, 2), padding=(1, 1), bias=False)\n",
              "        (bn1): BatchNorm2d(512, eps=1e-05, momentum=0.1, affine=True, track_running_stats=True)\n",
              "        (relu): ReLU(inplace=True)\n",
              "        (conv2): Conv2d(512, 512, kernel_size=(3, 3), stride=(1, 1), padding=(1, 1), bias=False)\n",
              "        (bn2): BatchNorm2d(512, eps=1e-05, momentum=0.1, affine=True, track_running_stats=True)\n",
              "        (downsample): Sequential(\n",
              "          (0): Conv2d(256, 512, kernel_size=(1, 1), stride=(2, 2), bias=False)\n",
              "          (1): BatchNorm2d(512, eps=1e-05, momentum=0.1, affine=True, track_running_stats=True)\n",
              "        )\n",
              "      )\n",
              "      (1): BasicBlock(\n",
              "        (conv1): Conv2d(512, 512, kernel_size=(3, 3), stride=(1, 1), padding=(1, 1), bias=False)\n",
              "        (bn1): BatchNorm2d(512, eps=1e-05, momentum=0.1, affine=True, track_running_stats=True)\n",
              "        (relu): ReLU(inplace=True)\n",
              "        (conv2): Conv2d(512, 512, kernel_size=(3, 3), stride=(1, 1), padding=(1, 1), bias=False)\n",
              "        (bn2): BatchNorm2d(512, eps=1e-05, momentum=0.1, affine=True, track_running_stats=True)\n",
              "      )\n",
              "    )\n",
              "    (8): AdaptiveAvgPool2d(output_size=(1, 1))\n",
              "  )\n",
              ")"
            ]
          },
          "metadata": {},
          "execution_count": 48
        }
      ]
    },
    {
      "cell_type": "code",
      "source": [
        "# for i in model.children():\n",
        "#   print(i)\n",
        "# print(model)"
      ],
      "metadata": {
        "colab": {
          "base_uri": "https://localhost:8080/"
        },
        "id": "I74Cjldmfe3x",
        "outputId": "2b4de2dd-d5a0-4c18-81c3-05abaf287caf"
      },
      "execution_count": 45,
      "outputs": [
        {
          "output_type": "stream",
          "name": "stdout",
          "text": [
            "ProtoNet(\n",
            "  (conv_net): Sequential(\n",
            "    (0): Conv2d(3, 64, kernel_size=(7, 7), stride=(2, 2), padding=(3, 3), bias=False)\n",
            "    (1): BatchNorm2d(64, eps=1e-05, momentum=0.1, affine=True, track_running_stats=True)\n",
            "    (2): ReLU(inplace=True)\n",
            "    (3): MaxPool2d(kernel_size=3, stride=2, padding=1, dilation=1, ceil_mode=False)\n",
            "    (4): Sequential(\n",
            "      (0): BasicBlock(\n",
            "        (conv1): Conv2d(64, 64, kernel_size=(3, 3), stride=(1, 1), padding=(1, 1), bias=False)\n",
            "        (bn1): BatchNorm2d(64, eps=1e-05, momentum=0.1, affine=True, track_running_stats=True)\n",
            "        (relu): ReLU(inplace=True)\n",
            "        (conv2): Conv2d(64, 64, kernel_size=(3, 3), stride=(1, 1), padding=(1, 1), bias=False)\n",
            "        (bn2): BatchNorm2d(64, eps=1e-05, momentum=0.1, affine=True, track_running_stats=True)\n",
            "      )\n",
            "      (1): BasicBlock(\n",
            "        (conv1): Conv2d(64, 64, kernel_size=(3, 3), stride=(1, 1), padding=(1, 1), bias=False)\n",
            "        (bn1): BatchNorm2d(64, eps=1e-05, momentum=0.1, affine=True, track_running_stats=True)\n",
            "        (relu): ReLU(inplace=True)\n",
            "        (conv2): Conv2d(64, 64, kernel_size=(3, 3), stride=(1, 1), padding=(1, 1), bias=False)\n",
            "        (bn2): BatchNorm2d(64, eps=1e-05, momentum=0.1, affine=True, track_running_stats=True)\n",
            "      )\n",
            "    )\n",
            "    (5): Sequential(\n",
            "      (0): BasicBlock(\n",
            "        (conv1): Conv2d(64, 128, kernel_size=(3, 3), stride=(2, 2), padding=(1, 1), bias=False)\n",
            "        (bn1): BatchNorm2d(128, eps=1e-05, momentum=0.1, affine=True, track_running_stats=True)\n",
            "        (relu): ReLU(inplace=True)\n",
            "        (conv2): Conv2d(128, 128, kernel_size=(3, 3), stride=(1, 1), padding=(1, 1), bias=False)\n",
            "        (bn2): BatchNorm2d(128, eps=1e-05, momentum=0.1, affine=True, track_running_stats=True)\n",
            "        (downsample): Sequential(\n",
            "          (0): Conv2d(64, 128, kernel_size=(1, 1), stride=(2, 2), bias=False)\n",
            "          (1): BatchNorm2d(128, eps=1e-05, momentum=0.1, affine=True, track_running_stats=True)\n",
            "        )\n",
            "      )\n",
            "      (1): BasicBlock(\n",
            "        (conv1): Conv2d(128, 128, kernel_size=(3, 3), stride=(1, 1), padding=(1, 1), bias=False)\n",
            "        (bn1): BatchNorm2d(128, eps=1e-05, momentum=0.1, affine=True, track_running_stats=True)\n",
            "        (relu): ReLU(inplace=True)\n",
            "        (conv2): Conv2d(128, 128, kernel_size=(3, 3), stride=(1, 1), padding=(1, 1), bias=False)\n",
            "        (bn2): BatchNorm2d(128, eps=1e-05, momentum=0.1, affine=True, track_running_stats=True)\n",
            "      )\n",
            "    )\n",
            "    (6): Sequential(\n",
            "      (0): BasicBlock(\n",
            "        (conv1): Conv2d(128, 256, kernel_size=(3, 3), stride=(2, 2), padding=(1, 1), bias=False)\n",
            "        (bn1): BatchNorm2d(256, eps=1e-05, momentum=0.1, affine=True, track_running_stats=True)\n",
            "        (relu): ReLU(inplace=True)\n",
            "        (conv2): Conv2d(256, 256, kernel_size=(3, 3), stride=(1, 1), padding=(1, 1), bias=False)\n",
            "        (bn2): BatchNorm2d(256, eps=1e-05, momentum=0.1, affine=True, track_running_stats=True)\n",
            "        (downsample): Sequential(\n",
            "          (0): Conv2d(128, 256, kernel_size=(1, 1), stride=(2, 2), bias=False)\n",
            "          (1): BatchNorm2d(256, eps=1e-05, momentum=0.1, affine=True, track_running_stats=True)\n",
            "        )\n",
            "      )\n",
            "      (1): BasicBlock(\n",
            "        (conv1): Conv2d(256, 256, kernel_size=(3, 3), stride=(1, 1), padding=(1, 1), bias=False)\n",
            "        (bn1): BatchNorm2d(256, eps=1e-05, momentum=0.1, affine=True, track_running_stats=True)\n",
            "        (relu): ReLU(inplace=True)\n",
            "        (conv2): Conv2d(256, 256, kernel_size=(3, 3), stride=(1, 1), padding=(1, 1), bias=False)\n",
            "        (bn2): BatchNorm2d(256, eps=1e-05, momentum=0.1, affine=True, track_running_stats=True)\n",
            "      )\n",
            "    )\n",
            "    (7): Sequential(\n",
            "      (0): BasicBlock(\n",
            "        (conv1): Conv2d(256, 512, kernel_size=(3, 3), stride=(2, 2), padding=(1, 1), bias=False)\n",
            "        (bn1): BatchNorm2d(512, eps=1e-05, momentum=0.1, affine=True, track_running_stats=True)\n",
            "        (relu): ReLU(inplace=True)\n",
            "        (conv2): Conv2d(512, 512, kernel_size=(3, 3), stride=(1, 1), padding=(1, 1), bias=False)\n",
            "        (bn2): BatchNorm2d(512, eps=1e-05, momentum=0.1, affine=True, track_running_stats=True)\n",
            "        (downsample): Sequential(\n",
            "          (0): Conv2d(256, 512, kernel_size=(1, 1), stride=(2, 2), bias=False)\n",
            "          (1): BatchNorm2d(512, eps=1e-05, momentum=0.1, affine=True, track_running_stats=True)\n",
            "        )\n",
            "      )\n",
            "      (1): BasicBlock(\n",
            "        (conv1): Conv2d(512, 512, kernel_size=(3, 3), stride=(1, 1), padding=(1, 1), bias=False)\n",
            "        (bn1): BatchNorm2d(512, eps=1e-05, momentum=0.1, affine=True, track_running_stats=True)\n",
            "        (relu): ReLU(inplace=True)\n",
            "        (conv2): Conv2d(512, 512, kernel_size=(3, 3), stride=(1, 1), padding=(1, 1), bias=False)\n",
            "        (bn2): BatchNorm2d(512, eps=1e-05, momentum=0.1, affine=True, track_running_stats=True)\n",
            "      )\n",
            "    )\n",
            "    (8): AdaptiveAvgPool2d(output_size=(1, 1))\n",
            "  )\n",
            ")\n"
          ]
        }
      ]
    },
    {
      "cell_type": "code",
      "source": [
        "loss = torch.nn.CrossEntropyLoss()\n",
        "optimizer = torch.optim.Adam(model.parameters(), lr=0.0003)"
      ],
      "metadata": {
        "id": "B8pxde084CQj"
      },
      "execution_count": 49,
      "outputs": []
    },
    {
      "cell_type": "code",
      "source": [
        "len(x)"
      ],
      "metadata": {
        "colab": {
          "base_uri": "https://localhost:8080/"
        },
        "id": "OBROqhEiZPJ7",
        "outputId": "29c6500d-4614-4e65-8617-e14c9854d767"
      },
      "execution_count": 50,
      "outputs": [
        {
          "output_type": "execute_result",
          "data": {
            "text/plain": [
              "16"
            ]
          },
          "metadata": {},
          "execution_count": 50
        }
      ]
    },
    {
      "cell_type": "code",
      "source": [
        "def train(model, loss_func, optimizer, scheduler=None, epochs=15000):\n",
        "  for epoch in range(epochs):\n",
        "    \n",
        "    running_loss = 0.0\n",
        "    running_corrects = 0\n",
        "    total =0\n",
        "\n",
        "    for inputs in x:\n",
        "      xs,ys,xq,yq = inputs\n",
        "      xs=xs.to(device)\n",
        "      xq=xq.to(device)\n",
        "      ys=ys.to(device)\n",
        "      yq=yq.to(device)\n",
        "\n",
        "      optimizer.zero_grad()\n",
        "\n",
        "      out = model(xs,ys,xq)\n",
        "      loss = loss_func(out, yq.type(torch.LongTensor))\n",
        "      if device!= \"cpu\":\n",
        "        preds = torch.argmax(out, dim=-1).cuda()\n",
        "\n",
        "      loss.backward()\n",
        "      optimizer.step()\n",
        "\n",
        "      running_loss += loss.item() * xq.size(0)\n",
        "      running_corrects += torch.sum(preds == yq.data)\n",
        "      total+=len(yq.data)\n",
        "    \n",
        "    epoch_loss = running_loss / total\n",
        "    epoch_acc = running_corrects.double() / total\n",
        "\n",
        "    if epoch==0 or (epoch+1) %200 ==0:\n",
        "      print(f'Epoch {epoch}/{epochs - 1}:- Loss: {epoch_loss:.4f} Acc: {epoch_acc:.4f}')\n",
        "      print('-' * 10)\n",
        "    "
      ],
      "metadata": {
        "id": "m4ZCF0ZK3F6x"
      },
      "execution_count": 51,
      "outputs": []
    },
    {
      "cell_type": "code",
      "source": [
        "train(model, loss, optimizer)"
      ],
      "metadata": {
        "colab": {
          "base_uri": "https://localhost:8080/",
          "height": 530
        },
        "id": "igCcDRXS75UX",
        "outputId": "6d3c7979-e9dd-4db6-de9e-039f1c409ef9"
      },
      "execution_count": 52,
      "outputs": [
        {
          "output_type": "stream",
          "name": "stdout",
          "text": [
            "Epoch 0/14999:- Loss: 0.8307 Acc: 0.7250\n",
            "----------\n",
            "Epoch 199/14999:- Loss: 0.6658 Acc: 0.9125\n",
            "----------\n",
            "Epoch 399/14999:- Loss: 0.4490 Acc: 0.9250\n",
            "----------\n",
            "Epoch 599/14999:- Loss: 0.1144 Acc: 0.9750\n",
            "----------\n",
            "Epoch 799/14999:- Loss: 0.2889 Acc: 0.9375\n",
            "----------\n",
            "Epoch 999/14999:- Loss: 0.3476 Acc: 0.9375\n",
            "----------\n",
            "Epoch 1199/14999:- Loss: 0.2503 Acc: 0.9000\n",
            "----------\n"
          ]
        },
        {
          "output_type": "error",
          "ename": "KeyboardInterrupt",
          "evalue": "ignored",
          "traceback": [
            "\u001b[0;31m---------------------------------------------------------------------------\u001b[0m",
            "\u001b[0;31mKeyboardInterrupt\u001b[0m                         Traceback (most recent call last)",
            "\u001b[0;32m<ipython-input-52-5ef2b2def1fd>\u001b[0m in \u001b[0;36m<module>\u001b[0;34m\u001b[0m\n\u001b[0;32m----> 1\u001b[0;31m \u001b[0mtrain\u001b[0m\u001b[0;34m(\u001b[0m\u001b[0mmodel\u001b[0m\u001b[0;34m,\u001b[0m \u001b[0mloss\u001b[0m\u001b[0;34m,\u001b[0m \u001b[0moptimizer\u001b[0m\u001b[0;34m)\u001b[0m\u001b[0;34m\u001b[0m\u001b[0;34m\u001b[0m\u001b[0m\n\u001b[0m",
            "\u001b[0;32m<ipython-input-51-1ff22c8507d7>\u001b[0m in \u001b[0;36mtrain\u001b[0;34m(model, loss_func, optimizer, scheduler, epochs)\u001b[0m\n\u001b[1;32m      8\u001b[0m     \u001b[0;32mfor\u001b[0m \u001b[0minputs\u001b[0m \u001b[0;32min\u001b[0m \u001b[0mx\u001b[0m\u001b[0;34m:\u001b[0m\u001b[0;34m\u001b[0m\u001b[0;34m\u001b[0m\u001b[0m\n\u001b[1;32m      9\u001b[0m       \u001b[0mxs\u001b[0m\u001b[0;34m,\u001b[0m\u001b[0mys\u001b[0m\u001b[0;34m,\u001b[0m\u001b[0mxq\u001b[0m\u001b[0;34m,\u001b[0m\u001b[0myq\u001b[0m \u001b[0;34m=\u001b[0m \u001b[0minputs\u001b[0m\u001b[0;34m\u001b[0m\u001b[0;34m\u001b[0m\u001b[0m\n\u001b[0;32m---> 10\u001b[0;31m       \u001b[0mxs\u001b[0m\u001b[0;34m=\u001b[0m\u001b[0mxs\u001b[0m\u001b[0;34m.\u001b[0m\u001b[0mto\u001b[0m\u001b[0;34m(\u001b[0m\u001b[0mdevice\u001b[0m\u001b[0;34m)\u001b[0m\u001b[0;34m\u001b[0m\u001b[0;34m\u001b[0m\u001b[0m\n\u001b[0m\u001b[1;32m     11\u001b[0m       \u001b[0mxq\u001b[0m\u001b[0;34m=\u001b[0m\u001b[0mxq\u001b[0m\u001b[0;34m.\u001b[0m\u001b[0mto\u001b[0m\u001b[0;34m(\u001b[0m\u001b[0mdevice\u001b[0m\u001b[0;34m)\u001b[0m\u001b[0;34m\u001b[0m\u001b[0;34m\u001b[0m\u001b[0m\n\u001b[1;32m     12\u001b[0m       \u001b[0mys\u001b[0m\u001b[0;34m=\u001b[0m\u001b[0mys\u001b[0m\u001b[0;34m.\u001b[0m\u001b[0mto\u001b[0m\u001b[0;34m(\u001b[0m\u001b[0mdevice\u001b[0m\u001b[0;34m)\u001b[0m\u001b[0;34m\u001b[0m\u001b[0;34m\u001b[0m\u001b[0m\n",
            "\u001b[0;31mKeyboardInterrupt\u001b[0m: "
          ]
        }
      ]
    },
    {
      "cell_type": "code",
      "source": [],
      "metadata": {
        "id": "EbTP414P8jvC"
      },
      "execution_count": null,
      "outputs": []
    }
  ]
}